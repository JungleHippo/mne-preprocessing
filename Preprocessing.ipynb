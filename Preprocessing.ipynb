{
 "cells": [
  {
   "cell_type": "markdown",
   "metadata": {},
   "source": [
    "# Imports and function definitions"
   ]
  },
  {
   "cell_type": "code",
   "execution_count": null,
   "metadata": {},
   "outputs": [],
   "source": [
    "# Imports\n",
    "import mne\n",
    "%matplotlib qt\n",
    "import os\n",
    "\n",
    "# Helper function definitions\n",
    "def filter_raw(raw, order = 2):\n",
    "    '''\n",
    "    This function erases the first 5 seconds of the EEG, which include\n",
    "    the calibration period.\n",
    "    It then rereferences to the average of the channels.\n",
    "    Finally, it applies the following filters to an MNE raw object:\n",
    "    Band-pass from .5 to 50 Hz\n",
    "    Notch at 47-53, 97-103 & 147-153 for the elimination of industrial noise\n",
    "    and its harmonics.\n",
    "\n",
    "    All 4 filters are applied sequentially and are 2nd order Butterworth with \n",
    "    0 padding\n",
    "\n",
    "    Input: The raw object\n",
    "    Returns: None (since the raw object is passed by reference and changes are in-place)\n",
    "\n",
    "    '''\n",
    "\n",
    "    raw.crop(tmin=5.0)\n",
    "    raw = raw.set_eeg_reference(ref_channels='average')\n",
    "\n",
    "    my_iir_params = dict(order=order, ftype='butter', output='ba', padlen=0)\n",
    "    \n",
    "    \n",
    "    \n",
    "\n",
    "    raw=raw.filter(l_freq=1, h_freq=50, method='iir', iir_params=my_iir_params)\n",
    "    raw=raw.filter(l_freq=53, h_freq=47, method='iir', iir_params=my_iir_params)\n",
    "    raw=raw.filter(l_freq=103, h_freq=97, method='iir', iir_params=my_iir_params)\n",
    "    raw=raw.filter(l_freq=153, h_freq=147, method='iir', iir_params=my_iir_params)\n",
    "\n",
    "    return None\n",
    "\n",
    "def continuous_regions(condition):\n",
    "    import numpy as np\n",
    "    \"\"\"Finds contiguous True regions of the boolean array \"condition\". Returns\n",
    "    a 2D array where the first column is the start index of the region and the\n",
    "    second column is the end index.\"\"\"\n",
    "\n",
    "    # Find the indicies of changes in \"condition\"\n",
    "    d = np.diff(condition)\n",
    "    idx, = d.nonzero() \n",
    "\n",
    "    # We need to start things after the change in \"condition\". Therefore, \n",
    "    # we'll shift the index by 1 to the right.\n",
    "    idx += 1\n",
    "\n",
    "    if condition[0]:\n",
    "        # If the start of condition is True prepend a 0\n",
    "        idx = np.r_[0, idx]\n",
    "\n",
    "    if condition[-1]:\n",
    "        # If the end of condition is True, append the length of the array\n",
    "        idx = np.r_[idx, condition.size] # Edit\n",
    "\n",
    "    # Reshape the result into two columns\n",
    "    idx.shape = (-1,2)\n",
    "    return idx\n",
    "\n",
    "# @ LEVON - https://stackoverflow.com/questions/10996140/how-to-remove-specific-elements-in-a-numpy-array\n",
    "\n",
    "def CropCalibrationZeros(raw):\n",
    "    import numpy as np\n",
    "    # Raw has been tested for .EDF Files\n",
    "    a = raw.get_data()[0] # First Channel\n",
    "    EEG_zero = np.min(abs(a))\n",
    "    \n",
    "    sfreq = int(raw.info['sfreq']) # Sampling Frequency\n",
    "    end = (a.shape[0]-1)/sfreq# Default end\n",
    "    total_duration = end\n",
    "    idx = []\n",
    "    condition = np.abs(a) == EEG_zero\n",
    "    for start, stop in continuous_regions(condition):\n",
    "        segment = a[start:stop]\n",
    "        if stop-start > sfreq/20:\n",
    "            idx.append(start/sfreq)\n",
    "            idx.append(stop/sfreq)\n",
    "    for element in idx:\n",
    "        if element < 15: start = element\n",
    "        if element > 50: end = element; break\n",
    "    \n",
    "\n",
    "    return start, end, total_duration"
   ]
  },
  {
   "cell_type": "markdown",
   "metadata": {},
   "source": [
    "# Change path in the next cell accordingly"
   ]
  },
  {
   "cell_type": "code",
   "execution_count": null,
   "metadata": {},
   "outputs": [],
   "source": [
    "path = ''"
   ]
  },
  {
   "cell_type": "code",
   "execution_count": null,
   "metadata": {},
   "outputs": [],
   "source": [
    "raw = mne.io.read_raw_edf(path, preload=True)\n",
    "rnet = mne.channels.make_standard_montage('brainproducts-RNP-BA-128')"
   ]
  },
  {
   "cell_type": "markdown",
   "metadata": {},
   "source": [
    "# Rename channels according to our setup. \n",
    "## It might need adjusting in the future"
   ]
  },
  {
   "cell_type": "markdown",
   "metadata": {},
   "source": [
    "### New eeg files (after around April 2022) -for old use next cell"
   ]
  },
  {
   "cell_type": "code",
   "execution_count": null,
   "metadata": {},
   "outputs": [],
   "source": [
    "# Duplicate name correction\n",
    "mapping = {'POO1-0':'POO1', \n",
    "           'POO1-1':'POO10', \n",
    "           'XX-0':'FPZ', \n",
    "           'XX-1':'FCZ', \n",
    "           'XX-2':'AFF4', \n",
    "           'TPP1':'TPP10'}\n",
    "raw.rename_channels(mapping)\n",
    "\n",
    "# Drop trailing H from ch_names\n",
    "new_mapping = dict(zip(raw.ch_names, [ch.rstrip('H') for ch in raw.ch_names]))\n",
    "raw.rename_channels(new_mapping)\n",
    "rnet_fix_ch_names = [chan.upper().rstrip('H') for chan in rnet.ch_names]\n",
    "rnet.rename_channels(dict(zip(rnet.ch_names, rnet_fix_ch_names)))"
   ]
  },
  {
   "cell_type": "code",
   "execution_count": null,
   "metadata": {},
   "outputs": [],
   "source": [
    "# Duplicate name correction\n",
    "mapping = {'POO1-0':'POO1', \n",
    "           'POO1-1':'POO10', \n",
    "           'FFC5-0':'FCC5', \n",
    "           'FFC5-1':'FFC5', \n",
    "           'XX-0':'FPZ', \n",
    "           'XX-1':'FCZ', \n",
    "           'XX-2':'AFF4', \n",
    "           'TPP1':'TPP10'}\n",
    "\n",
    "raw.rename_channels(mapping)\n",
    "\n",
    "# Drop trailing H from ch_names\n",
    "new_mapping = dict(zip(raw.ch_names, [ch.rstrip('H') for ch in raw.ch_names]))\n",
    "raw.rename_channels(new_mapping)\n",
    "rnet_fix_ch_names = [chan.upper().rstrip('H') for chan in rnet.ch_names]\n",
    "rnet.rename_channels(dict(zip(rnet.ch_names, rnet_fix_ch_names)))"
   ]
  },
  {
   "cell_type": "code",
   "execution_count": null,
   "metadata": {},
   "outputs": [],
   "source": [
    "raw.drop_channels([ch for ch in raw.ch_names if 'DC' in ch or 'GND' in ch])\n",
    "raw.set_montage(rnet)\n",
    "raw.plot_psd()"
   ]
  },
  {
   "cell_type": "markdown",
   "metadata": {},
   "source": [
    "# Interpolating bad channels. Standard interpolations are 'AFF4', 'FPZ', 'FCZ', add whatever is needed from PSD above."
   ]
  },
  {
   "cell_type": "code",
   "execution_count": null,
   "metadata": {
    "scrolled": true
   },
   "outputs": [],
   "source": [
    "raw.info['bads'] = ['AFF4', 'FPZ', 'FCZ']\n",
    "raw.interpolate_bads(reset_bads=True)"
   ]
  },
  {
   "cell_type": "code",
   "execution_count": null,
   "metadata": {},
   "outputs": [],
   "source": [
    "raw.plot_psd()"
   ]
  },
  {
   "cell_type": "code",
   "execution_count": null,
   "metadata": {},
   "outputs": [],
   "source": [
    "raw.plot()"
   ]
  },
  {
   "cell_type": "code",
   "execution_count": null,
   "metadata": {},
   "outputs": [],
   "source": [
    "filter_raw(raw)"
   ]
  },
  {
   "cell_type": "code",
   "execution_count": null,
   "metadata": {},
   "outputs": [],
   "source": [
    "raw.plot_psd()"
   ]
  },
  {
   "cell_type": "code",
   "execution_count": null,
   "metadata": {},
   "outputs": [],
   "source": [
    "raw.plot()"
   ]
  },
  {
   "cell_type": "markdown",
   "metadata": {},
   "source": [
    "# For ICA a 98 % of components capturing the cumulative covariance are required. In cases where a lot of artifacts exist, a good choice is changing \".98\" to 40 components."
   ]
  },
  {
   "cell_type": "code",
   "execution_count": null,
   "metadata": {},
   "outputs": [],
   "source": [
    "ica = mne.preprocessing.ICA(n_components=.98, method='picard', fit_params=dict(extended=True) )\n",
    "ica.fit(raw)"
   ]
  },
  {
   "cell_type": "code",
   "execution_count": null,
   "metadata": {},
   "outputs": [],
   "source": [
    "ica.plot_components()"
   ]
  },
  {
   "cell_type": "code",
   "execution_count": null,
   "metadata": {},
   "outputs": [],
   "source": [
    "ica.plot_sources(raw)"
   ]
  },
  {
   "cell_type": "code",
   "execution_count": null,
   "metadata": {},
   "outputs": [],
   "source": [
    "raw.plot(title=\"Before ICA\")\n",
    "appd = raw.copy()\n",
    "ica.apply(appd)\n",
    "appd.plot(title=\"After ICA\")"
   ]
  },
  {
   "cell_type": "code",
   "execution_count": null,
   "metadata": {},
   "outputs": [],
   "source": [
    "raw.plot_psd()"
   ]
  },
  {
   "cell_type": "code",
   "execution_count": null,
   "metadata": {},
   "outputs": [],
   "source": [
    "appd.plot_psd()"
   ]
  },
  {
   "cell_type": "markdown",
   "metadata": {},
   "source": [
    "# Interpolate channels not cleaned with ICA component removal"
   ]
  },
  {
   "cell_type": "code",
   "execution_count": null,
   "metadata": {},
   "outputs": [],
   "source": [
    "appd.info['bads'] = ['AF7', 'AF8', 'F7']\n",
    "appd.interpolate_bads(reset_bads=True)"
   ]
  },
  {
   "cell_type": "code",
   "execution_count": null,
   "metadata": {},
   "outputs": [],
   "source": [
    "appd.plot_psd()"
   ]
  },
  {
   "cell_type": "markdown",
   "metadata": {},
   "source": [
    "# Save as .fif"
   ]
  },
  {
   "cell_type": "code",
   "execution_count": null,
   "metadata": {},
   "outputs": [],
   "source": [
    "path_arr = path.split(os.sep)\n",
    "path_arr[-1] = path_arr[-1].split('.')[0] + '_raw.fif'\n",
    "new_path = os.path.join(*path_arr)\n",
    "new_path = os.path.relpath(new_path)\n",
    "appd.save(new_path)#, overwrite=True)"
   ]
  }
 ],
 "metadata": {
  "kernelspec": {
   "display_name": "Python 3 (ipykernel)",
   "language": "python",
   "name": "python3"
  },
  "language_info": {
   "codemirror_mode": {
    "name": "ipython",
    "version": 3
   },
   "file_extension": ".py",
   "mimetype": "text/x-python",
   "name": "python",
   "nbconvert_exporter": "python",
   "pygments_lexer": "ipython3",
   "version": "3.10.5"
  }
 },
 "nbformat": 4,
 "nbformat_minor": 4
}
